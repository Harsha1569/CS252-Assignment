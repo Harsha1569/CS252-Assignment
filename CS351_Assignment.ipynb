{
  "nbformat": 4,
  "nbformat_minor": 0,
  "metadata": {
    "colab": {
      "provenance": [],
      "collapsed_sections": [],
      "authorship_tag": "ABX9TyOzwyvWsG9v1jnAPZkQrMn8",
      "include_colab_link": true
    },
    "kernelspec": {
      "name": "python3",
      "display_name": "Python 3"
    },
    "language_info": {
      "name": "python"
    }
  },
  "cells": [
    {
      "cell_type": "markdown",
      "metadata": {
        "id": "view-in-github",
        "colab_type": "text"
      },
      "source": [
        "<a href=\"https://colab.research.google.com/github/Harsha1569/CS252-Assignment/blob/main/CS351_Assignment.ipynb\" target=\"_parent\"><img src=\"https://colab.research.google.com/assets/colab-badge.svg\" alt=\"Open In Colab\"/></a>"
      ]
    },
    {
      "cell_type": "markdown",
      "source": [
        "##Importing Libraries"
      ],
      "metadata": {
        "id": "e3iCXI1TfwRD"
      }
    },
    {
      "cell_type": "code",
      "execution_count": 11,
      "metadata": {
        "id": "6aujDgk7vMOM"
      },
      "outputs": [],
      "source": [
        "#importing necessary libraries\n",
        "\n",
        "import pandas as pd\n",
        "import numpy as np\n",
        "import matplotlib.pyplot as plt\n",
        "import seaborn as sns\n",
        "\n",
        "\n",
        "#setting parameters for plots\n",
        "\n",
        "%matplotlib inline\n",
        "plt.style.use(['seaborn-notebook'])\n",
        "plt.rcParams.update({\n",
        "    \"font.serif\": [\"cm\"],\n",
        "    \"mathtext.fontset\": \"cm\",\n",
        "    \"figure.figsize\": (15, 8),\n",
        "    \"axes.labelsize\": 15,\n",
        "    \"font.size\": 8})"
      ]
    },
    {
      "cell_type": "markdown",
      "source": [
        "##Load Dataset"
      ],
      "metadata": {
        "id": "fN_L-Skff4eP"
      }
    },
    {
      "cell_type": "code",
      "source": [
        "#loading data from CSV file\n",
        "\n",
        "rain_df = pd.read_csv('weatherAUS.csv')\n",
        "\n",
        "# Checking the Dimensions of Dataset: \n",
        "\n",
        "print(rain_df.shape)"
      ],
      "metadata": {
        "id": "iiIiI0giNBs9",
        "colab": {
          "base_uri": "https://localhost:8080/"
        },
        "outputId": "00d2b132-a0f6-44fb-a995-fe8c90ce9a7c"
      },
      "execution_count": null,
      "outputs": [
        {
          "output_type": "stream",
          "name": "stdout",
          "text": [
            "(145460, 23)\n"
          ]
        }
      ]
    },
    {
      "cell_type": "markdown",
      "source": [
        "##Data Preprocessing"
      ],
      "metadata": {
        "id": "EBg1BHsRfqBI"
      }
    },
    {
      "cell_type": "code",
      "source": [
        "# A concise summary of a Dataset\n",
        "\n",
        "print(rain_df.info())\n"
      ],
      "metadata": {
        "id": "dmdMNbffe4WY",
        "colab": {
          "base_uri": "https://localhost:8080/"
        },
        "outputId": "20e88876-659c-44cd-9ae4-9dd92c0e3df0"
      },
      "execution_count": null,
      "outputs": [
        {
          "output_type": "stream",
          "name": "stdout",
          "text": [
            "<class 'pandas.core.frame.DataFrame'>\n",
            "RangeIndex: 145460 entries, 0 to 145459\n",
            "Data columns (total 23 columns):\n",
            " #   Column         Non-Null Count   Dtype  \n",
            "---  ------         --------------   -----  \n",
            " 0   Date           145460 non-null  object \n",
            " 1   Location       145460 non-null  object \n",
            " 2   MinTemp        143975 non-null  float64\n",
            " 3   MaxTemp        144199 non-null  float64\n",
            " 4   Rainfall       142199 non-null  float64\n",
            " 5   Evaporation    82670 non-null   float64\n",
            " 6   Sunshine       75625 non-null   float64\n",
            " 7   WindGustDir    135134 non-null  object \n",
            " 8   WindGustSpeed  135197 non-null  float64\n",
            " 9   WindDir9am     134894 non-null  object \n",
            " 10  WindDir3pm     141232 non-null  object \n",
            " 11  WindSpeed9am   143693 non-null  float64\n",
            " 12  WindSpeed3pm   142398 non-null  float64\n",
            " 13  Humidity9am    142806 non-null  float64\n",
            " 14  Humidity3pm    140953 non-null  float64\n",
            " 15  Pressure9am    130395 non-null  float64\n",
            " 16  Pressure3pm    130432 non-null  float64\n",
            " 17  Cloud9am       89572 non-null   float64\n",
            " 18  Cloud3pm       86102 non-null   float64\n",
            " 19  Temp9am        143693 non-null  float64\n",
            " 20  Temp3pm        141851 non-null  float64\n",
            " 21  RainToday      142199 non-null  object \n",
            " 22  RainTomorrow   142193 non-null  object \n",
            "dtypes: float64(16), object(7)\n",
            "memory usage: 25.5+ MB\n",
            "None\n"
          ]
        }
      ]
    },
    {
      "cell_type": "markdown",
      "source": [
        "Finding Categorical and Numerical Features in a Data set:"
      ],
      "metadata": {
        "id": "jra-RRhdgM7F"
      }
    },
    {
      "cell_type": "code",
      "source": [
        "# Categorical features in Dataset:\n",
        "categorical_features = [column_name for column_name in rain_df.columns if rain_df[column_name].dtype == 'O']\n",
        "print(\"Number of Categorical Features: {}\".format(len(categorical_features)))\n",
        "print(\"Categorical Features: \",categorical_features)"
      ],
      "metadata": {
        "id": "zsRSUyV2ffDS",
        "colab": {
          "base_uri": "https://localhost:8080/"
        },
        "outputId": "fef7a1de-9455-4565-ae51-15be57f0f474"
      },
      "execution_count": null,
      "outputs": [
        {
          "output_type": "stream",
          "name": "stdout",
          "text": [
            "Number of Categorical Features: 7\n",
            "Categorical Features:  ['Date', 'Location', 'WindGustDir', 'WindDir9am', 'WindDir3pm', 'RainToday', 'RainTomorrow']\n"
          ]
        }
      ]
    },
    {
      "cell_type": "code",
      "source": [
        "# Numerical Features in Dataset:\n",
        "\n",
        "numerical_features = [column_name for column_name in rain_df.columns if rain_df[column_name].dtype != 'O']\n",
        "print(\"Number of Numerical Features: {}\".format(len(numerical_features)))\n",
        "print(\"Numerical Features: \",numerical_features)"
      ],
      "metadata": {
        "id": "-cXMZN-PgQw9",
        "colab": {
          "base_uri": "https://localhost:8080/"
        },
        "outputId": "c269ad1b-45c6-4d99-b0f6-419844b0e92d"
      },
      "execution_count": null,
      "outputs": [
        {
          "output_type": "stream",
          "name": "stdout",
          "text": [
            "Number of Numerical Features: 16\n",
            "Numerical Features:  ['MinTemp', 'MaxTemp', 'Rainfall', 'Evaporation', 'Sunshine', 'WindGustSpeed', 'WindSpeed9am', 'WindSpeed3pm', 'Humidity9am', 'Humidity3pm', 'Pressure9am', 'Pressure3pm', 'Cloud9am', 'Cloud3pm', 'Temp9am', 'Temp3pm']\n"
          ]
        }
      ]
    },
    {
      "cell_type": "markdown",
      "source": [
        "Dropping Values that add no value to the model"
      ],
      "metadata": {
        "id": "QD6q1hjqBrf5"
      }
    },
    {
      "cell_type": "code",
      "source": [
        "# Removing/Dropping the date feature name\n",
        "\n",
        "rain_df.drop('Date', axis = 1, inplace = True)\n",
        "rain_df.head()"
      ],
      "metadata": {
        "id": "JYgU5Na5B2Zq",
        "colab": {
          "base_uri": "https://localhost:8080/",
          "height": 299
        },
        "outputId": "11c97c1e-b15c-4ae4-ebec-9c4bbe39b888"
      },
      "execution_count": null,
      "outputs": [
        {
          "output_type": "execute_result",
          "data": {
            "text/plain": [
              "  Location  MinTemp  MaxTemp  Rainfall  Evaporation  Sunshine WindGustDir  \\\n",
              "0   Albury     13.4     22.9       0.6          NaN       NaN           W   \n",
              "1   Albury      7.4     25.1       0.0          NaN       NaN         WNW   \n",
              "2   Albury     12.9     25.7       0.0          NaN       NaN         WSW   \n",
              "3   Albury      9.2     28.0       0.0          NaN       NaN          NE   \n",
              "4   Albury     17.5     32.3       1.0          NaN       NaN           W   \n",
              "\n",
              "   WindGustSpeed WindDir9am WindDir3pm  ...  Humidity9am  Humidity3pm  \\\n",
              "0           44.0          W        WNW  ...         71.0         22.0   \n",
              "1           44.0        NNW        WSW  ...         44.0         25.0   \n",
              "2           46.0          W        WSW  ...         38.0         30.0   \n",
              "3           24.0         SE          E  ...         45.0         16.0   \n",
              "4           41.0        ENE         NW  ...         82.0         33.0   \n",
              "\n",
              "   Pressure9am  Pressure3pm  Cloud9am  Cloud3pm  Temp9am  Temp3pm  RainToday  \\\n",
              "0       1007.7       1007.1       8.0       NaN     16.9     21.8         No   \n",
              "1       1010.6       1007.8       NaN       NaN     17.2     24.3         No   \n",
              "2       1007.6       1008.7       NaN       2.0     21.0     23.2         No   \n",
              "3       1017.6       1012.8       NaN       NaN     18.1     26.5         No   \n",
              "4       1010.8       1006.0       7.0       8.0     17.8     29.7         No   \n",
              "\n",
              "   RainTomorrow  \n",
              "0            No  \n",
              "1            No  \n",
              "2            No  \n",
              "3            No  \n",
              "4            No  \n",
              "\n",
              "[5 rows x 22 columns]"
            ],
            "text/html": [
              "\n",
              "  <div id=\"df-3a084c0c-7039-40d9-9df7-81d9bd29c668\">\n",
              "    <div class=\"colab-df-container\">\n",
              "      <div>\n",
              "<style scoped>\n",
              "    .dataframe tbody tr th:only-of-type {\n",
              "        vertical-align: middle;\n",
              "    }\n",
              "\n",
              "    .dataframe tbody tr th {\n",
              "        vertical-align: top;\n",
              "    }\n",
              "\n",
              "    .dataframe thead th {\n",
              "        text-align: right;\n",
              "    }\n",
              "</style>\n",
              "<table border=\"1\" class=\"dataframe\">\n",
              "  <thead>\n",
              "    <tr style=\"text-align: right;\">\n",
              "      <th></th>\n",
              "      <th>Location</th>\n",
              "      <th>MinTemp</th>\n",
              "      <th>MaxTemp</th>\n",
              "      <th>Rainfall</th>\n",
              "      <th>Evaporation</th>\n",
              "      <th>Sunshine</th>\n",
              "      <th>WindGustDir</th>\n",
              "      <th>WindGustSpeed</th>\n",
              "      <th>WindDir9am</th>\n",
              "      <th>WindDir3pm</th>\n",
              "      <th>...</th>\n",
              "      <th>Humidity9am</th>\n",
              "      <th>Humidity3pm</th>\n",
              "      <th>Pressure9am</th>\n",
              "      <th>Pressure3pm</th>\n",
              "      <th>Cloud9am</th>\n",
              "      <th>Cloud3pm</th>\n",
              "      <th>Temp9am</th>\n",
              "      <th>Temp3pm</th>\n",
              "      <th>RainToday</th>\n",
              "      <th>RainTomorrow</th>\n",
              "    </tr>\n",
              "  </thead>\n",
              "  <tbody>\n",
              "    <tr>\n",
              "      <th>0</th>\n",
              "      <td>Albury</td>\n",
              "      <td>13.4</td>\n",
              "      <td>22.9</td>\n",
              "      <td>0.6</td>\n",
              "      <td>NaN</td>\n",
              "      <td>NaN</td>\n",
              "      <td>W</td>\n",
              "      <td>44.0</td>\n",
              "      <td>W</td>\n",
              "      <td>WNW</td>\n",
              "      <td>...</td>\n",
              "      <td>71.0</td>\n",
              "      <td>22.0</td>\n",
              "      <td>1007.7</td>\n",
              "      <td>1007.1</td>\n",
              "      <td>8.0</td>\n",
              "      <td>NaN</td>\n",
              "      <td>16.9</td>\n",
              "      <td>21.8</td>\n",
              "      <td>No</td>\n",
              "      <td>No</td>\n",
              "    </tr>\n",
              "    <tr>\n",
              "      <th>1</th>\n",
              "      <td>Albury</td>\n",
              "      <td>7.4</td>\n",
              "      <td>25.1</td>\n",
              "      <td>0.0</td>\n",
              "      <td>NaN</td>\n",
              "      <td>NaN</td>\n",
              "      <td>WNW</td>\n",
              "      <td>44.0</td>\n",
              "      <td>NNW</td>\n",
              "      <td>WSW</td>\n",
              "      <td>...</td>\n",
              "      <td>44.0</td>\n",
              "      <td>25.0</td>\n",
              "      <td>1010.6</td>\n",
              "      <td>1007.8</td>\n",
              "      <td>NaN</td>\n",
              "      <td>NaN</td>\n",
              "      <td>17.2</td>\n",
              "      <td>24.3</td>\n",
              "      <td>No</td>\n",
              "      <td>No</td>\n",
              "    </tr>\n",
              "    <tr>\n",
              "      <th>2</th>\n",
              "      <td>Albury</td>\n",
              "      <td>12.9</td>\n",
              "      <td>25.7</td>\n",
              "      <td>0.0</td>\n",
              "      <td>NaN</td>\n",
              "      <td>NaN</td>\n",
              "      <td>WSW</td>\n",
              "      <td>46.0</td>\n",
              "      <td>W</td>\n",
              "      <td>WSW</td>\n",
              "      <td>...</td>\n",
              "      <td>38.0</td>\n",
              "      <td>30.0</td>\n",
              "      <td>1007.6</td>\n",
              "      <td>1008.7</td>\n",
              "      <td>NaN</td>\n",
              "      <td>2.0</td>\n",
              "      <td>21.0</td>\n",
              "      <td>23.2</td>\n",
              "      <td>No</td>\n",
              "      <td>No</td>\n",
              "    </tr>\n",
              "    <tr>\n",
              "      <th>3</th>\n",
              "      <td>Albury</td>\n",
              "      <td>9.2</td>\n",
              "      <td>28.0</td>\n",
              "      <td>0.0</td>\n",
              "      <td>NaN</td>\n",
              "      <td>NaN</td>\n",
              "      <td>NE</td>\n",
              "      <td>24.0</td>\n",
              "      <td>SE</td>\n",
              "      <td>E</td>\n",
              "      <td>...</td>\n",
              "      <td>45.0</td>\n",
              "      <td>16.0</td>\n",
              "      <td>1017.6</td>\n",
              "      <td>1012.8</td>\n",
              "      <td>NaN</td>\n",
              "      <td>NaN</td>\n",
              "      <td>18.1</td>\n",
              "      <td>26.5</td>\n",
              "      <td>No</td>\n",
              "      <td>No</td>\n",
              "    </tr>\n",
              "    <tr>\n",
              "      <th>4</th>\n",
              "      <td>Albury</td>\n",
              "      <td>17.5</td>\n",
              "      <td>32.3</td>\n",
              "      <td>1.0</td>\n",
              "      <td>NaN</td>\n",
              "      <td>NaN</td>\n",
              "      <td>W</td>\n",
              "      <td>41.0</td>\n",
              "      <td>ENE</td>\n",
              "      <td>NW</td>\n",
              "      <td>...</td>\n",
              "      <td>82.0</td>\n",
              "      <td>33.0</td>\n",
              "      <td>1010.8</td>\n",
              "      <td>1006.0</td>\n",
              "      <td>7.0</td>\n",
              "      <td>8.0</td>\n",
              "      <td>17.8</td>\n",
              "      <td>29.7</td>\n",
              "      <td>No</td>\n",
              "      <td>No</td>\n",
              "    </tr>\n",
              "  </tbody>\n",
              "</table>\n",
              "<p>5 rows × 22 columns</p>\n",
              "</div>\n",
              "      <button class=\"colab-df-convert\" onclick=\"convertToInteractive('df-3a084c0c-7039-40d9-9df7-81d9bd29c668')\"\n",
              "              title=\"Convert this dataframe to an interactive table.\"\n",
              "              style=\"display:none;\">\n",
              "        \n",
              "  <svg xmlns=\"http://www.w3.org/2000/svg\" height=\"24px\"viewBox=\"0 0 24 24\"\n",
              "       width=\"24px\">\n",
              "    <path d=\"M0 0h24v24H0V0z\" fill=\"none\"/>\n",
              "    <path d=\"M18.56 5.44l.94 2.06.94-2.06 2.06-.94-2.06-.94-.94-2.06-.94 2.06-2.06.94zm-11 1L8.5 8.5l.94-2.06 2.06-.94-2.06-.94L8.5 2.5l-.94 2.06-2.06.94zm10 10l.94 2.06.94-2.06 2.06-.94-2.06-.94-.94-2.06-.94 2.06-2.06.94z\"/><path d=\"M17.41 7.96l-1.37-1.37c-.4-.4-.92-.59-1.43-.59-.52 0-1.04.2-1.43.59L10.3 9.45l-7.72 7.72c-.78.78-.78 2.05 0 2.83L4 21.41c.39.39.9.59 1.41.59.51 0 1.02-.2 1.41-.59l7.78-7.78 2.81-2.81c.8-.78.8-2.07 0-2.86zM5.41 20L4 18.59l7.72-7.72 1.47 1.35L5.41 20z\"/>\n",
              "  </svg>\n",
              "      </button>\n",
              "      \n",
              "  <style>\n",
              "    .colab-df-container {\n",
              "      display:flex;\n",
              "      flex-wrap:wrap;\n",
              "      gap: 12px;\n",
              "    }\n",
              "\n",
              "    .colab-df-convert {\n",
              "      background-color: #E8F0FE;\n",
              "      border: none;\n",
              "      border-radius: 50%;\n",
              "      cursor: pointer;\n",
              "      display: none;\n",
              "      fill: #1967D2;\n",
              "      height: 32px;\n",
              "      padding: 0 0 0 0;\n",
              "      width: 32px;\n",
              "    }\n",
              "\n",
              "    .colab-df-convert:hover {\n",
              "      background-color: #E2EBFA;\n",
              "      box-shadow: 0px 1px 2px rgba(60, 64, 67, 0.3), 0px 1px 3px 1px rgba(60, 64, 67, 0.15);\n",
              "      fill: #174EA6;\n",
              "    }\n",
              "\n",
              "    [theme=dark] .colab-df-convert {\n",
              "      background-color: #3B4455;\n",
              "      fill: #D2E3FC;\n",
              "    }\n",
              "\n",
              "    [theme=dark] .colab-df-convert:hover {\n",
              "      background-color: #434B5C;\n",
              "      box-shadow: 0px 1px 3px 1px rgba(0, 0, 0, 0.15);\n",
              "      filter: drop-shadow(0px 1px 2px rgba(0, 0, 0, 0.3));\n",
              "      fill: #FFFFFF;\n",
              "    }\n",
              "  </style>\n",
              "\n",
              "      <script>\n",
              "        const buttonEl =\n",
              "          document.querySelector('#df-3a084c0c-7039-40d9-9df7-81d9bd29c668 button.colab-df-convert');\n",
              "        buttonEl.style.display =\n",
              "          google.colab.kernel.accessAllowed ? 'block' : 'none';\n",
              "\n",
              "        async function convertToInteractive(key) {\n",
              "          const element = document.querySelector('#df-3a084c0c-7039-40d9-9df7-81d9bd29c668');\n",
              "          const dataTable =\n",
              "            await google.colab.kernel.invokeFunction('convertToInteractive',\n",
              "                                                     [key], {});\n",
              "          if (!dataTable) return;\n",
              "\n",
              "          const docLinkHtml = 'Like what you see? Visit the ' +\n",
              "            '<a target=\"_blank\" href=https://colab.research.google.com/notebooks/data_table.ipynb>data table notebook</a>'\n",
              "            + ' to learn more about interactive tables.';\n",
              "          element.innerHTML = '';\n",
              "          dataTable['output_type'] = 'display_data';\n",
              "          await google.colab.output.renderOutput(dataTable, element);\n",
              "          const docLink = document.createElement('div');\n",
              "          docLink.innerHTML = docLinkHtml;\n",
              "          element.appendChild(docLink);\n",
              "        }\n",
              "      </script>\n",
              "    </div>\n",
              "  </div>\n",
              "  "
            ]
          },
          "metadata": {},
          "execution_count": 59
        }
      ]
    },
    {
      "cell_type": "markdown",
      "source": [
        "Handling Missing Values"
      ],
      "metadata": {
        "id": "ebhkhG07iR-a"
      }
    },
    {
      "cell_type": "code",
      "source": [
        "# Handling Missing values in Categorical Features\n",
        "\n",
        "categorical_features = [column_name for column_name in rain_df.columns if rain_df[column_name].dtype == 'O']\n",
        "rain_df[categorical_features].isnull().sum()"
      ],
      "metadata": {
        "id": "N4I0SpnRiUJL",
        "colab": {
          "base_uri": "https://localhost:8080/"
        },
        "outputId": "e717fbca-c720-4118-e959-fb8ce36f3a57"
      },
      "execution_count": null,
      "outputs": [
        {
          "output_type": "execute_result",
          "data": {
            "text/plain": [
              "Location            0\n",
              "WindGustDir     10326\n",
              "WindDir9am      10566\n",
              "WindDir3pm       4228\n",
              "RainToday        3261\n",
              "RainTomorrow     3267\n",
              "dtype: int64"
            ]
          },
          "metadata": {},
          "execution_count": 60
        }
      ]
    },
    {
      "cell_type": "code",
      "source": [
        "# Imputing the missing values in categorical features using the most frequent value i.e., the mode value:\n",
        "\n",
        "categorical_features_with_null = [feature for feature in categorical_features if rain_df[feature].isnull().sum()]\n",
        "for each_feature in categorical_features_with_null:\n",
        "    mode_val = rain_df[each_feature].mode()[0]\n",
        "    rain_df[each_feature].fillna(mode_val,inplace=True)"
      ],
      "metadata": {
        "id": "Ybiv70d-isO2"
      },
      "execution_count": null,
      "outputs": []
    },
    {
      "cell_type": "markdown",
      "source": [
        "Outlier detection and removal"
      ],
      "metadata": {
        "id": "Ldgc7alpjcOu"
      }
    },
    {
      "cell_type": "code",
      "source": [
        "# Outlier Treatment to remove outliers from Numerical Features:\n",
        "\n",
        "features_with_outliers = ['MinTemp', 'MaxTemp', 'Rainfall', 'Evaporation', 'WindGustSpeed','WindSpeed9am', 'WindSpeed3pm', 'Humidity9am', 'Pressure9am', 'Pressure3pm', 'Temp9am', 'Temp3pm']\n",
        "for feature in features_with_outliers:\n",
        "    q1 = rain_df[feature].quantile(0.25)\n",
        "    q3 = rain_df[feature].quantile(0.75)\n",
        "    IQR = q3-q1\n",
        "    lower_limit = q1 - (IQR*1.5)\n",
        "    upper_limit = q3 + (IQR*1.5)\n",
        "    rain_df.loc[rain_df[feature]<lower_limit,feature] = lower_limit\n",
        "    rain_df.loc[rain_df[feature]>upper_limit,feature] = upper_limit"
      ],
      "metadata": {
        "id": "iuEdkpepjcWx"
      },
      "execution_count": null,
      "outputs": []
    },
    {
      "cell_type": "code",
      "source": [
        "#Imputing missing values in numerical features using mean value:\n",
        "\n",
        "numerical_features_with_null = [feature for feature in numerical_features if rain_df[feature].isnull().sum()]\n",
        "for feature in numerical_features_with_null:\n",
        "    mean_value = rain_df[feature].mean()\n",
        "    rain_df[feature].fillna(mean_value,inplace=True)"
      ],
      "metadata": {
        "id": "66DlQLjsi8NF"
      },
      "execution_count": null,
      "outputs": []
    },
    {
      "cell_type": "markdown",
      "source": [
        "Encoding of Categorical Features"
      ],
      "metadata": {
        "id": "lbMU_Zb6kHIW"
      }
    },
    {
      "cell_type": "code",
      "source": [
        "#The below function takes feature name as a parameter and returns mapping dictionary to replace(or map) categorical data with numerical data.\n",
        "def encode_data(feature_name):\n",
        "  mapping_dict = {}\n",
        "  unique_values = list(rain_df[feature_name].unique())\n",
        "  for idx in range(len(unique_values)):\n",
        "    mapping_dict[unique_values[idx]] = idx\n",
        "  return mapping_dict\n",
        "\n",
        "rain_df['RainToday'].replace({'No':0, 'Yes': 1}, inplace = True)\n",
        "rain_df['RainTomorrow'].replace({'No':0, 'Yes': 1}, inplace = True)\n",
        "rain_df['WindGustDir'].replace(encode_data('WindGustDir'),inplace = True)\n",
        "rain_df['WindDir9am'].replace(encode_data('WindDir9am'),inplace = True)\n",
        "rain_df['WindDir3pm'].replace(encode_data('WindDir3pm'),inplace = True)\n",
        "rain_df['Location'].replace(encode_data('Location'), inplace = True)"
      ],
      "metadata": {
        "id": "EV8LeQMoi8S-"
      },
      "execution_count": null,
      "outputs": []
    },
    {
      "cell_type": "markdown",
      "source": [
        " Splitting data into Independent Features and Dependent Features"
      ],
      "metadata": {
        "id": "ce6rOtMFA4Bx"
      }
    },
    {
      "cell_type": "code",
      "source": [
        "X = rain_df.drop(['RainTomorrow'],axis=1)\n",
        "y = rain_df['RainTomorrow']"
      ],
      "metadata": {
        "id": "-5-e8f8NA4RI"
      },
      "execution_count": null,
      "outputs": []
    },
    {
      "cell_type": "markdown",
      "source": [
        "##Splitting Data into training and Testing set"
      ],
      "metadata": {
        "id": "cFcsfHrMLVeN"
      }
    },
    {
      "cell_type": "code",
      "source": [
        "from sklearn.model_selection import train_test_split\n",
        "X_train, X_test, y_train, y_test = train_test_split(X,y, test_size = 0.2, random_state = 0)\n",
        "\n",
        "# Length of Training and Testing set\n",
        "print(\"Length of Training Data: {}\".format(len(X_train)))\n",
        "print(\"Length of Testing Data: {}\".format(len(X_test)))"
      ],
      "metadata": {
        "id": "ea6nZdI5AilK",
        "colab": {
          "base_uri": "https://localhost:8080/"
        },
        "outputId": "1cf1812f-3cd8-4f13-8c02-bdea19508dd8"
      },
      "execution_count": null,
      "outputs": [
        {
          "output_type": "stream",
          "name": "stdout",
          "text": [
            "Length of Training Data: 116368\n",
            "Length of Testing Data: 29092\n"
          ]
        }
      ]
    },
    {
      "cell_type": "code",
      "source": [
        "y_test.value_counts()"
      ],
      "metadata": {
        "id": "Y5EsrBVXd27w",
        "colab": {
          "base_uri": "https://localhost:8080/"
        },
        "outputId": "f9aae2b1-a29d-45e9-ab46-4aee6ea73ab8"
      },
      "execution_count": null,
      "outputs": [
        {
          "output_type": "execute_result",
          "data": {
            "text/plain": [
              "0    22726\n",
              "1     6366\n",
              "Name: RainTomorrow, dtype: int64"
            ]
          },
          "metadata": {},
          "execution_count": 67
        }
      ]
    },
    {
      "cell_type": "markdown",
      "source": [
        "##Feature scaling"
      ],
      "metadata": {
        "id": "AjvxmnqDBOBw"
      }
    },
    {
      "cell_type": "code",
      "source": [
        "from sklearn.preprocessing import StandardScaler\n",
        "scaler = StandardScaler()\n",
        "X_train = scaler.fit_transform(X_train)\n",
        "X_test = scaler.transform(X_test)"
      ],
      "metadata": {
        "id": "xfW8oW0RAlEj"
      },
      "execution_count": null,
      "outputs": []
    },
    {
      "cell_type": "markdown",
      "source": [
        "##Logistic Regression "
      ],
      "metadata": {
        "id": "Lmjr7FSUCbBC"
      }
    },
    {
      "cell_type": "code",
      "source": [
        "#Model building\n",
        "\n",
        "from sklearn.linear_model import LogisticRegression\n",
        "classifier_logreg = LogisticRegression(random_state=0, solver='liblinear')\n",
        "classifier_logreg.fit(X_train, y_train)\n",
        "\n"
      ],
      "metadata": {
        "id": "WZU6UT_sClJ-",
        "colab": {
          "base_uri": "https://localhost:8080/"
        },
        "outputId": "d34eafbc-ab2b-4c6a-9841-62f4a2a5233f"
      },
      "execution_count": null,
      "outputs": [
        {
          "output_type": "execute_result",
          "data": {
            "text/plain": [
              "LogisticRegression(random_state=0, solver='liblinear')"
            ]
          },
          "metadata": {},
          "execution_count": 69
        }
      ]
    },
    {
      "cell_type": "code",
      "source": [
        "#Model Testing\n",
        "\n",
        "y_pred = classifier_logreg.predict(X_test)\n",
        "y_pred"
      ],
      "metadata": {
        "id": "MKUnUfPOC4qf",
        "colab": {
          "base_uri": "https://localhost:8080/"
        },
        "outputId": "5f1a1571-5073-49dc-aad3-a033e93a34ba"
      },
      "execution_count": null,
      "outputs": [
        {
          "output_type": "execute_result",
          "data": {
            "text/plain": [
              "array([0, 0, 0, ..., 0, 0, 0])"
            ]
          },
          "metadata": {},
          "execution_count": 70
        }
      ]
    },
    {
      "cell_type": "markdown",
      "source": [
        "Evaluating performance metrics of model"
      ],
      "metadata": {
        "id": "PYRpin44DWD4"
      }
    },
    {
      "cell_type": "code",
      "source": [
        "#Checking accuracy score\n",
        "\n",
        "from sklearn.metrics import accuracy_score\n",
        "print(\"Accuracy Score: {}\".format(accuracy_score(y_test,y_pred)))"
      ],
      "metadata": {
        "id": "25z8NoRLDolg",
        "colab": {
          "base_uri": "https://localhost:8080/"
        },
        "outputId": "184fb26d-a12d-4cf5-cd7c-e5af282ff6cc"
      },
      "execution_count": null,
      "outputs": [
        {
          "output_type": "stream",
          "name": "stdout",
          "text": [
            "Accuracy Score: 0.8439777258352812\n"
          ]
        }
      ]
    },
    {
      "cell_type": "code",
      "source": [
        "# Checking for Underfitting and Overfitting:\n",
        "\n",
        "print(\"Train Data Score: {}\".format(classifier_logreg.score(X_train, y_train)))\n",
        "print(\"Test Data Score: {}\".format(classifier_logreg.score(X_test, y_test)))"
      ],
      "metadata": {
        "id": "GoJHGm2YD04F",
        "colab": {
          "base_uri": "https://localhost:8080/"
        },
        "outputId": "bcbd0b12-913d-45e1-f6c4-12c2cce4bede"
      },
      "execution_count": null,
      "outputs": [
        {
          "output_type": "stream",
          "name": "stdout",
          "text": [
            "Train Data Score: 0.843805857280352\n",
            "Test Data Score: 0.8439777258352812\n"
          ]
        }
      ]
    },
    {
      "cell_type": "code",
      "source": [
        "#Confusion Matrix\n",
        "\n",
        "from sklearn.metrics import confusion_matrix\n",
        "\n",
        "def plot_confusion_matrix(cm, classes,\n",
        "                          normalize=False,\n",
        "                          title='Confusion matrix',\n",
        "                          cmap=plt.cm.Blues):\n",
        "       \n",
        "    plt.imshow(cm, interpolation='nearest', cmap=cmap)\n",
        "    plt.title(title)\n",
        "    plt.colorbar()\n",
        "    tick_marks = np.arange(len(classes))\n",
        "    plt.xticks(tick_marks, classes, rotation=45)\n",
        "    plt.yticks(tick_marks, classes)\n",
        "\n",
        "    if normalize:\n",
        "        cm = cm.astype('float') / cm.sum(axis=1)[:, np.newaxis]\n",
        "        print(\"Normalized confusion matrix\")\n",
        "    else:\n",
        "        print('Confusion matrix, without normalization')\n",
        "\n",
        "    thresh = cm.max() / 2.\n",
        "    for i in range (cm.shape[0]):\n",
        "        for j in range (cm.shape[1]):\n",
        "            plt.text(j, i, cm[i, j],\n",
        "                 horizontalalignment=\"center\",\n",
        "                 color=\"white\" if cm[i, j] > thresh else \"black\")\n",
        "\n",
        "    plt.tight_layout()\n",
        "    plt.ylabel('Actual label')\n",
        "    plt.xlabel('Predicted label')\n",
        "\n",
        "cm = confusion_matrix(y_test,y_pred)\n",
        "#print(cm)\n",
        "plot_confusion_matrix(cm, classes=['Sunshine', 'Rain'])"
      ],
      "metadata": {
        "id": "Gwx08G-SES8l",
        "colab": {
          "base_uri": "https://localhost:8080/",
          "height": 328
        },
        "outputId": "d709ddc7-00af-43b0-a82e-abc481162f24"
      },
      "execution_count": null,
      "outputs": [
        {
          "output_type": "stream",
          "name": "stdout",
          "text": [
            "Confusion matrix, without normalization\n"
          ]
        },
        {
          "output_type": "display_data",
          "data": {
            "text/plain": [
              "<Figure size 432x288 with 2 Axes>"
            ],
            "image/png": "[encoded data removed]"
          },
          "metadata": {
            "needs_background": "light"
          }
        }
      ]
    },
    {
      "cell_type": "code",
      "source": [
        "# Classification-report\n",
        "\n",
        "from sklearn.metrics import classification_report\n",
        "print(classification_report(y_test, y_pred))"
      ],
      "metadata": {
        "id": "70MhomAtFc48",
        "colab": {
          "base_uri": "https://localhost:8080/"
        },
        "outputId": "25873adb-21ee-4095-c20e-4097220875af"
      },
      "execution_count": null,
      "outputs": [
        {
          "output_type": "stream",
          "name": "stdout",
          "text": [
            "              precision    recall  f1-score   support\n",
            "\n",
            "           0       0.87      0.95      0.90     22726\n",
            "           1       0.72      0.47      0.57      6366\n",
            "\n",
            "    accuracy                           0.84     29092\n",
            "   macro avg       0.79      0.71      0.74     29092\n",
            "weighted avg       0.83      0.84      0.83     29092\n",
            "\n"
          ]
        }
      ]
    },
    {
      "cell_type": "markdown",
      "source": [
        "##SVM (State Vector Machines)"
      ],
      "metadata": {
        "id": "vdiJ0Lp__QVb"
      }
    },
    {
      "cell_type": "code",
      "source": [
        "#Model Building\n",
        "\n",
        "from sklearn.svm import SVC\n",
        "classifier_svm = SVC()\n",
        "classifier_svm.fit(X_train, y_train)"
      ],
      "metadata": {
        "id": "Nk11olRjZFsC",
        "colab": {
          "base_uri": "https://localhost:8080/"
        },
        "outputId": "2a8954ae-a80e-45f8-9727-8618a49bde22"
      },
      "execution_count": null,
      "outputs": [
        {
          "output_type": "execute_result",
          "data": {
            "text/plain": [
              "SVC()"
            ]
          },
          "metadata": {},
          "execution_count": 75
        }
      ]
    },
    {
      "cell_type": "code",
      "source": [
        "#Model testing\n",
        "\n",
        "y_pred_svm = classifier_svm.predict(X_test)\n",
        "y_pred_svm"
      ],
      "metadata": {
        "id": "ECxbS9k-aQwo",
        "colab": {
          "base_uri": "https://localhost:8080/"
        },
        "outputId": "31db0e98-e3ea-494d-b01d-6b4dd926d0b9"
      },
      "execution_count": null,
      "outputs": [
        {
          "output_type": "execute_result",
          "data": {
            "text/plain": [
              "array([0, 0, 0, ..., 0, 0, 0])"
            ]
          },
          "metadata": {},
          "execution_count": 76
        }
      ]
    },
    {
      "cell_type": "markdown",
      "source": [
        "Evaluating Performance Metrics of Model"
      ],
      "metadata": {
        "id": "wZg6wNwg_nf2"
      }
    },
    {
      "cell_type": "code",
      "source": [
        "#Checking accuracy score\n",
        "\n",
        "from sklearn.metrics import accuracy_score\n",
        "print(\"Accuracy Score: {}\".format(accuracy_score(y_test,y_pred_svm)))"
      ],
      "metadata": {
        "id": "vj8Sn1RS_msn",
        "colab": {
          "base_uri": "https://localhost:8080/"
        },
        "outputId": "b3810d24-461e-4f79-c051-0efff15e3217"
      },
      "execution_count": null,
      "outputs": [
        {
          "output_type": "stream",
          "name": "stdout",
          "text": [
            "Accuracy Score: 0.8537398597552591\n"
          ]
        }
      ]
    },
    {
      "cell_type": "code",
      "source": [
        "# Checking for Underfitting and Overfitting:\n",
        "\n",
        "print(\"Train Data Score: {}\".format(classifier_svm.score(X_train, y_train)))\n",
        "print(\"Test Data Score: {}\".format(classifier_svm.score(X_test, y_test)))"
      ],
      "metadata": {
        "id": "jovYEYkR_4yO",
        "colab": {
          "base_uri": "https://localhost:8080/"
        },
        "outputId": "5948324e-41d4-43de-e052-ac1ae4d2c538"
      },
      "execution_count": null,
      "outputs": [
        {
          "output_type": "stream",
          "name": "stdout",
          "text": [
            "Train Data Score: 0.8607778770796095\n",
            "Test Data Score: 0.8537398597552591\n"
          ]
        }
      ]
    },
    {
      "cell_type": "code",
      "source": [
        "#Confusion Matrix\n",
        "\n",
        "from sklearn.metrics import confusion_matrix\n",
        "\n",
        "def plot_confusion_matrix(cm, classes,\n",
        "                          normalize=False,\n",
        "                          title='Confusion matrix',\n",
        "                          cmap=plt.cm.Blues):\n",
        "       \n",
        "    plt.imshow(cm, interpolation='nearest', cmap=cmap)\n",
        "    plt.title(title)\n",
        "    plt.colorbar()\n",
        "    tick_marks = np.arange(len(classes))\n",
        "    plt.xticks(tick_marks, classes, rotation=45)\n",
        "    plt.yticks(tick_marks, classes)\n",
        "\n",
        "    if normalize:\n",
        "        cm = cm.astype('float') / cm.sum(axis=1)[:, np.newaxis]\n",
        "        print(\"Normalized confusion matrix\")\n",
        "    else:\n",
        "        print('Confusion matrix, without normalization')\n",
        "\n",
        "    thresh = cm.max() / 2.\n",
        "    for i in range (cm.shape[0]):\n",
        "        for j in range (cm.shape[1]):\n",
        "            plt.text(j, i, cm[i, j],\n",
        "                 horizontalalignment=\"center\",\n",
        "                 color=\"white\" if cm[i, j] > thresh else \"black\")\n",
        "\n",
        "    plt.tight_layout()\n",
        "    plt.ylabel('Actual label')\n",
        "    plt.xlabel('Predicted label')\n",
        "\n",
        "cm = confusion_matrix(y_test,y_pred_svm)\n",
        "#print(cm)\n",
        "plot_confusion_matrix(cm, classes=['Sunshine', 'Rain'])"
      ],
      "metadata": {
        "id": "LGOStydxBk40",
        "colab": {
          "base_uri": "https://localhost:8080/",
          "height": 328
        },
        "outputId": "975287eb-7079-4488-e5f2-886f7035aa25"
      },
      "execution_count": null,
      "outputs": [
        {
          "output_type": "stream",
          "name": "stdout",
          "text": [
            "Confusion matrix, without normalization\n"
          ]
        },
        {
          "output_type": "display_data",
          "data": {
            "text/plain": [
              "<Figure size 432x288 with 2 Axes>"
            ],
            "image/png": "[encoded data removed]"
          },
          "metadata": {
            "needs_background": "light"
          }
        }
      ]
    },
    {
      "cell_type": "code",
      "source": [
        "print(classification_report(y_test, y_pred_svm))"
      ],
      "metadata": {
        "id": "ZD9ID9qw_m4M",
        "colab": {
          "base_uri": "https://localhost:8080/"
        },
        "outputId": "17fb061f-2861-447c-9cda-047ab717a021"
      },
      "execution_count": null,
      "outputs": [
        {
          "output_type": "stream",
          "name": "stdout",
          "text": [
            "              precision    recall  f1-score   support\n",
            "\n",
            "           0       0.86      0.96      0.91     22726\n",
            "           1       0.78      0.46      0.58      6366\n",
            "\n",
            "    accuracy                           0.85     29092\n",
            "   macro avg       0.82      0.71      0.75     29092\n",
            "weighted avg       0.85      0.85      0.84     29092\n",
            "\n"
          ]
        }
      ]
    },
    {
      "cell_type": "markdown",
      "source": [
        "##KNN (K-Nearest Neighbours)"
      ],
      "metadata": {
        "id": "M0_CrW__A1mP"
      }
    },
    {
      "cell_type": "code",
      "source": [
        "from sklearn.neighbors import KNeighborsClassifier\n",
        "classifier_knn = KNeighborsClassifier()\n",
        "classifier_knn.fit(X_train, y_train)"
      ],
      "metadata": {
        "id": "juaI7eSUZsx5",
        "colab": {
          "base_uri": "https://localhost:8080/"
        },
        "outputId": "01939232-c613-42d1-c7ec-faeb3612b8c0"
      },
      "execution_count": null,
      "outputs": [
        {
          "output_type": "execute_result",
          "data": {
            "text/plain": [
              "KNeighborsClassifier()"
            ]
          },
          "metadata": {},
          "execution_count": 81
        }
      ]
    },
    {
      "cell_type": "code",
      "source": [
        "y_pred_knn = classifier_knn.predict(X_test)\n",
        "y_pred_knn"
      ],
      "metadata": {
        "id": "gpu-13j2aR8e",
        "colab": {
          "base_uri": "https://localhost:8080/"
        },
        "outputId": "3eadd988-26b5-4f96-be02-bc23e456fd55"
      },
      "execution_count": null,
      "outputs": [
        {
          "output_type": "execute_result",
          "data": {
            "text/plain": [
              "array([1, 0, 0, ..., 0, 0, 0])"
            ]
          },
          "metadata": {},
          "execution_count": 82
        }
      ]
    },
    {
      "cell_type": "markdown",
      "source": [
        "Evaluating Performance metrics of Model"
      ],
      "metadata": {
        "id": "IGDdahxuBUdE"
      }
    },
    {
      "cell_type": "code",
      "source": [
        "#Checking accuracy score\n",
        "\n",
        "from sklearn.metrics import accuracy_score\n",
        "print(\"Accuracy Score: {}\".format(accuracy_score(y_test,y_pred_knn)))"
      ],
      "metadata": {
        "id": "wfRdMaUTBFoX",
        "colab": {
          "base_uri": "https://localhost:8080/"
        },
        "outputId": "f9338194-8d6e-4d83-df5d-fbceb8091bd6"
      },
      "execution_count": null,
      "outputs": [
        {
          "output_type": "stream",
          "name": "stdout",
          "text": [
            "Accuracy Score: 0.8347655712910765\n"
          ]
        }
      ]
    },
    {
      "cell_type": "code",
      "source": [
        "# Checking for Underfitting and Overfitting:\n",
        "\n",
        "print(\"Train Data Score: {}\".format(classifier_knn.score(X_train, y_train)))\n",
        "print(\"Test Data Score: {}\".format(classifier_knn.score(X_test, y_test)))"
      ],
      "metadata": {
        "id": "p36LIAgiBFrd",
        "colab": {
          "base_uri": "https://localhost:8080/"
        },
        "outputId": "4e9c4797-6ed7-4487-d9a0-8cc8a390cd8d"
      },
      "execution_count": null,
      "outputs": [
        {
          "output_type": "stream",
          "name": "stdout",
          "text": [
            "Train Data Score: 0.8794084284339337\n",
            "Test Data Score: 0.8347655712910765\n"
          ]
        }
      ]
    },
    {
      "cell_type": "code",
      "source": [
        "#Confusion Matrix\n",
        "\n",
        "from sklearn.metrics import confusion_matrix\n",
        "\n",
        "def plot_confusion_matrix(cm, classes,\n",
        "                          normalize=False,\n",
        "                          title='Confusion matrix',\n",
        "                          cmap=plt.cm.Blues):\n",
        "       \n",
        "    plt.imshow(cm, interpolation='nearest', cmap=cmap)\n",
        "    plt.title(title)\n",
        "    plt.colorbar()\n",
        "    tick_marks = np.arange(len(classes))\n",
        "    plt.xticks(tick_marks, classes, rotation=45)\n",
        "    plt.yticks(tick_marks, classes)\n",
        "\n",
        "    if normalize:\n",
        "        cm = cm.astype('float') / cm.sum(axis=1)[:, np.newaxis]\n",
        "        print(\"Normalized confusion matrix\")\n",
        "    else:\n",
        "        print('Confusion matrix, without normalization')\n",
        "\n",
        "    thresh = cm.max() / 2.\n",
        "    for i in range (cm.shape[0]):\n",
        "        for j in range (cm.shape[1]):\n",
        "            plt.text(j, i, cm[i, j],\n",
        "                 horizontalalignment=\"center\",\n",
        "                 color=\"white\" if cm[i, j] > thresh else \"black\")\n",
        "\n",
        "    plt.tight_layout()\n",
        "    plt.ylabel('Actual label')\n",
        "    plt.xlabel('Predicted label')\n",
        "\n",
        "cm = confusion_matrix(y_test,y_pred_knn)\n",
        "#print(cm)\n",
        "plot_confusion_matrix(cm, classes=['Sunshine', 'Rain'])"
      ],
      "metadata": {
        "id": "Rxb8rUmZBgN3",
        "colab": {
          "base_uri": "https://localhost:8080/",
          "height": 328
        },
        "outputId": "4b62b85d-ad1c-4bb3-9129-7189308f6b13"
      },
      "execution_count": null,
      "outputs": [
        {
          "output_type": "stream",
          "name": "stdout",
          "text": [
            "Confusion matrix, without normalization\n"
          ]
        },
        {
          "output_type": "display_data",
          "data": {
            "text/plain": [
              "<Figure size 432x288 with 2 Axes>"
            ],
            "image/png": "[encoded data removed]"
          },
          "metadata": {
            "needs_background": "light"
          }
        }
      ]
    },
    {
      "cell_type": "code",
      "source": [
        "print(classification_report(y_test, y_pred_knn))"
      ],
      "metadata": {
        "id": "WSrcaBqrBgSR",
        "colab": {
          "base_uri": "https://localhost:8080/"
        },
        "outputId": "b7be58dc-c49d-4cfb-da66-4106ab4d81dd"
      },
      "execution_count": null,
      "outputs": [
        {
          "output_type": "stream",
          "name": "stdout",
          "text": [
            "              precision    recall  f1-score   support\n",
            "\n",
            "           0       0.86      0.94      0.90     22726\n",
            "           1       0.67      0.48      0.56      6366\n",
            "\n",
            "    accuracy                           0.83     29092\n",
            "   macro avg       0.77      0.71      0.73     29092\n",
            "weighted avg       0.82      0.83      0.82     29092\n",
            "\n"
          ]
        }
      ]
    },
    {
      "cell_type": "markdown",
      "source": [
        "###Inferences"
      ],
      "metadata": {
        "id": "ibjdyl_JFPAd"
      }
    },
    {
      "cell_type": "code",
      "source": [
        "#Plotting bar-graph of accuracy scores\n",
        "\n",
        "logreg_acc_score = 84\n",
        "svm_acc_score = 85\n",
        "knn_acc_score = 83\n",
        "\n",
        "fig = plt.figure()\n",
        "X_axis = ['Logistic Regression', 'SVM', 'KNN']\n",
        "Y_axis = [logreg_acc_score,svm_acc_score,knn_acc_score]\n",
        "plt.bar(X_axis,Y_axis, color=['red', 'green', 'blue'],  width = 1.0)\n",
        "plt.xlabel(\"Type of algorithm used\", size =20)\n",
        "plt.ylabel(\"Accuracy score in percentage\", size =20)\n",
        "plt.title(r\"$Bar\\ graph\\ showing\\ the\\ accuracy\\ scores\\ of\\ the\\ 3\\ algorithms$\", size =25)\n",
        "plt.xticks(fontsize=15)\n",
        "plt.yticks(fontsize=15)\n",
        "plt.show()"
      ],
      "metadata": {
        "id": "ajHDTFVPMSsA",
        "colab": {
          "base_uri": "https://localhost:8080/",
          "height": 541
        },
        "outputId": "edbfc8fb-9c3b-461a-9e0e-1c51d135504f"
      },
      "execution_count": 20,
      "outputs": [
        {
          "output_type": "display_data",
          "data": {
            "text/plain": [
              "<Figure size 1080x576 with 1 Axes>"
            ],
            "image/png": "[encoded data removed]"
          },
          "metadata": {
            "needs_background": "light"
          }
        }
      ]
    },
    {
      "cell_type": "code",
      "source": [],
      "metadata": {
        "id": "k3YRkvsTMS_l"
      },
      "execution_count": null,
      "outputs": []
    },
    {
      "cell_type": "code",
      "source": [],
      "metadata": {
        "id": "736thJrYBFu6"
      },
      "execution_count": null,
      "outputs": []
    },
    {
      "cell_type": "code",
      "source": [],
      "metadata": {
        "id": "xdfP2OwhZ5wl"
      },
      "execution_count": null,
      "outputs": []
    }
  ]
}